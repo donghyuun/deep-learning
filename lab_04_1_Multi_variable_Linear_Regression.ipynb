{
  "nbformat": 4,
  "nbformat_minor": 0,
  "metadata": {
    "colab": {
      "provenance": [],
      "machine_shape": "hm",
      "gpuType": "T4",
      "authorship_tag": "ABX9TyNSTWJZtuZ/juiZhCkQEtjz",
      "include_colab_link": true
    },
    "kernelspec": {
      "name": "python3",
      "display_name": "Python 3"
    },
    "language_info": {
      "name": "python"
    },
    "accelerator": "GPU"
  },
  "cells": [
    {
      "cell_type": "markdown",
      "metadata": {
        "id": "view-in-github",
        "colab_type": "text"
      },
      "source": [
        "<a href=\"https://colab.research.google.com/github/donghyuun/deep-learning/blob/main/lab_04_1_Multi_variable_Linear_Regression.ipynb\" target=\"_parent\"><img src=\"https://colab.research.google.com/assets/colab-badge.svg\" alt=\"Open In Colab\"/></a>"
      ]
    },
    {
      "cell_type": "code",
      "source": [
        "# data and label\n",
        "# Matrix 사용 X\n",
        "x1 = [ 73.,  93.,  89.,  96.,  73.]\n",
        "x2 = [ 80.,  88.,  91.,  98.,  66.]\n",
        "x3 = [ 75.,  93.,  90., 100.,  70.]\n",
        "Y  = [152., 185., 180., 196., 142.]\n",
        "\n",
        "# random weights\n",
        "w1 = tf.Variable(tf.random.normal((1,)))\n",
        "w2 = tf.Variable(tf.random.normal((1,)))\n",
        "w3 = tf.Variable(tf.random.normal((1,)))\n",
        "b  = tf.Variable(tf.random.normal((1,)))\n",
        "\n",
        "learning_rate = 0.000001\n",
        "\n",
        "for i in range(1000+1):\n",
        "    # tf.GradientTape() to record the gradient of the cost function\n",
        "    with tf.GradientTape() as tape:\n",
        "        hypothesis = w1 * x1 +  w2 * x2 + w3 * x3 + b\n",
        "        cost = tf.reduce_mean(tf.square(hypothesis - Y))\n",
        "    # calculates the gradients of the cost\n",
        "    w1_grad, w2_grad, w3_grad, b_grad = tape.gradient(cost, [w1, w2, w3, b])\n",
        "\n",
        "    # update w1,w2,w3 and b\n",
        "    w1.assign_sub(learning_rate * w1_grad)\n",
        "    w2.assign_sub(learning_rate * w2_grad)\n",
        "    w3.assign_sub(learning_rate * w3_grad)\n",
        "    b.assign_sub(learning_rate * b_grad)\n",
        "\n",
        "    if i % 50 == 0:\n",
        "      print(\"{:5} | {:12.4f}\".format(i, cost.numpy()))"
      ],
      "metadata": {
        "colab": {
          "base_uri": "https://localhost:8080/"
        },
        "id": "IYzihQOH2RVh",
        "outputId": "ccdb2ce8-d83a-46c3-ae52-90693e249080"
      },
      "execution_count": 11,
      "outputs": [
        {
          "output_type": "stream",
          "name": "stdout",
          "text": [
            "    0 |     404.3058\n",
            "   50 |       7.0533\n",
            "  100 |       2.6419\n",
            "  150 |       2.5894\n",
            "  200 |       2.5852\n",
            "  250 |       2.5817\n",
            "  300 |       2.5781\n",
            "  350 |       2.5745\n",
            "  400 |       2.5710\n",
            "  450 |       2.5674\n",
            "  500 |       2.5639\n",
            "  550 |       2.5604\n",
            "  600 |       2.5568\n",
            "  650 |       2.5534\n",
            "  700 |       2.5499\n",
            "  750 |       2.5464\n",
            "  800 |       2.5429\n",
            "  850 |       2.5395\n",
            "  900 |       2.5360\n",
            "  950 |       2.5326\n",
            " 1000 |       2.5291\n"
          ]
        }
      ]
    },
    {
      "cell_type": "code",
      "execution_count": 12,
      "metadata": {
        "colab": {
          "base_uri": "https://localhost:8080/"
        },
        "id": "MQdRNlD_vSkM",
        "outputId": "9b445471-3fb5-4c28-c593-13589632d546"
      },
      "outputs": [
        {
          "output_type": "stream",
          "name": "stdout",
          "text": [
            "epoch | cost\n",
            "    0 |    12.1675\n",
            "  100 |     4.0823\n",
            "  200 |     4.0606\n",
            "  300 |     4.0400\n",
            "  400 |     4.0194\n",
            "  500 |     3.9990\n",
            "  600 |     3.9788\n",
            "  700 |     3.9586\n",
            "  800 |     3.9385\n",
            "  900 |     3.9185\n",
            " 1000 |     3.8987\n",
            " 1100 |     3.8790\n",
            " 1200 |     3.8594\n",
            " 1300 |     3.8398\n",
            " 1400 |     3.8204\n",
            " 1500 |     3.8010\n",
            " 1600 |     3.7818\n",
            " 1700 |     3.7628\n",
            " 1800 |     3.7438\n",
            " 1900 |     3.7248\n",
            " 2000 |     3.7060\n"
          ]
        }
      ],
      "source": [
        "# Matrix 사용 O\n",
        "\n",
        "data = np.array([\n",
        "    # X1,   X2,    X3,   y\n",
        "    [ 73.,  80.,  75., 152. ],\n",
        "    [ 93.,  88.,  93., 185. ],\n",
        "    [ 89.,  91.,  90., 180. ],\n",
        "    [ 96.,  98., 100., 196. ],\n",
        "    [ 73.,  66.,  70., 142. ]\n",
        "], dtype=np.float32)\n",
        "\n",
        "# slice data\n",
        "X = data[:, :-1]\n",
        "y = data[:, [-1]]\n",
        "\n",
        "W = tf.Variable(tf.random.normal((3, 1)))\n",
        "b = tf.Variable(tf.random.normal((1,)))\n",
        "\n",
        "learning_rate = 0.000001\n",
        "\n",
        "# hypothesis, prediction function\n",
        "def predict(X):\n",
        "    return tf.matmul(X, W) + b\n",
        "\n",
        "print(\"epoch | cost\")\n",
        "\n",
        "n_epochs = 2000\n",
        "for i in range(n_epochs+1):\n",
        "    # tf.GradientTape() to record the gradient of the cost function\n",
        "    with tf.GradientTape() as tape:\n",
        "        cost = tf.reduce_mean((tf.square(predict(X) - y)))\n",
        "\n",
        "    # calculates the gradients of the loss\n",
        "    W_grad, b_grad = tape.gradient(cost, [W, b])\n",
        "\n",
        "    # updates parameters (W and b)\n",
        "    W.assign_sub(learning_rate * W_grad)\n",
        "    b.assign_sub(learning_rate * b_grad)\n",
        "\n",
        "    if i % 100 == 0:\n",
        "        print(\"{:5} | {:10.4f}\".format(i, cost.numpy()))"
      ]
    },
    {
      "cell_type": "code",
      "source": [
        "y # labels, 실제값"
      ],
      "metadata": {
        "colab": {
          "base_uri": "https://localhost:8080/"
        },
        "id": "Eso_k8dP2tE9",
        "outputId": "90cc38a3-58db-4ab2-e7f6-1cea3b1ff531"
      },
      "execution_count": 15,
      "outputs": [
        {
          "output_type": "execute_result",
          "data": {
            "text/plain": [
              "array([[152.],\n",
              "       [185.],\n",
              "       [180.],\n",
              "       [196.],\n",
              "       [142.]], dtype=float32)"
            ]
          },
          "metadata": {},
          "execution_count": 15
        }
      ]
    },
    {
      "cell_type": "code",
      "source": [
        "predict(X).numpy() # prediction, 예측값"
      ],
      "metadata": {
        "colab": {
          "base_uri": "https://localhost:8080/"
        },
        "id": "VQjD4C1F26K1",
        "outputId": "88fbe567-cb46-4377-b944-03c5c716f075"
      },
      "execution_count": 16,
      "outputs": [
        {
          "output_type": "execute_result",
          "data": {
            "text/plain": [
              "array([[148.61539],\n",
              "       [186.58096],\n",
              "       [179.85838],\n",
              "       [195.77261],\n",
              "       [144.12184]], dtype=float32)"
            ]
          },
          "metadata": {},
          "execution_count": 16
        }
      ]
    },
    {
      "cell_type": "code",
      "source": [
        "# 새로운 데이터에 대한 예측\n",
        "predict([[ 89.,  95.,  92.],[ 84.,  92.,  85.]]).numpy()"
      ],
      "metadata": {
        "colab": {
          "base_uri": "https://localhost:8080/"
        },
        "id": "to0zURKg3HQv",
        "outputId": "1020f069-d061-43a0-ee94-84cf3dd4e812"
      },
      "execution_count": 17,
      "outputs": [
        {
          "output_type": "execute_result",
          "data": {
            "text/plain": [
              "array([[181.47426],\n",
              "       [170.41692]], dtype=float32)"
            ]
          },
          "metadata": {},
          "execution_count": 17
        }
      ]
    }
  ]
}