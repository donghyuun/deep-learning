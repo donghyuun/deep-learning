{
  "nbformat": 4,
  "nbformat_minor": 0,
  "metadata": {
    "colab": {
      "provenance": [],
      "authorship_tag": "ABX9TyMP4BiNyyvK+3L0+fcrYAHo",
      "include_colab_link": true
    },
    "kernelspec": {
      "name": "python3",
      "display_name": "Python 3"
    },
    "language_info": {
      "name": "python"
    }
  },
  "cells": [
    {
      "cell_type": "markdown",
      "metadata": {
        "id": "view-in-github",
        "colab_type": "text"
      },
      "source": [
        "<a href=\"https://colab.research.google.com/github/donghyuun/deep-learning/blob/main/lab_03_1_minimizing_cost_show_graph.ipynb\" target=\"_parent\"><img src=\"https://colab.research.google.com/assets/colab-badge.svg\" alt=\"Open In Colab\"/></a>"
      ]
    },
    {
      "cell_type": "code",
      "source": [
        "import tensorflow as tf\n",
        "\n",
        "# *** 수동 미분 ***\n",
        "\n",
        "# 데이터 정의\n",
        "x_data = tf.constant([1, 2, 3], dtype=tf.float32)  # 입력 데이터\n",
        "y_data = tf.constant([1, 2, 3], dtype=tf.float32)  # 출력 데이터\n",
        "\n",
        "# 학습 가능한 변수\n",
        "# W = tf.Variable(tf.random.normal([1]), name='weight')  # 가중치 초기화\n",
        "initial_W = tf.constant([4.0], dtype=tf.float32)\n",
        "W = tf.Variable(initial_W)  # 초기 가중치 W 수동 지정\n",
        "\n",
        "# 학습률\n",
        "learning_rate = 0.1\n",
        "\n",
        "# 손실 함수 정의: MSE\n",
        "def compute_cost(W):\n",
        "    hypothesis = x_data * W\n",
        "    return tf.reduce_sum(tf.square(hypothesis - y_data))  # 손실 함수\n",
        "\n",
        "# 손실 함수의 미분 정의 (수동 계산)\n",
        "def compute_gradient(W):\n",
        "    hypothesis = x_data * W\n",
        "    gradient = tf.reduce_mean((hypothesis - y_data) * x_data) * 2  # MSE의 편미분\n",
        "    return tf.reshape(gradient, W.shape)\n",
        "\n",
        "# 학습 루프\n",
        "for step in range(100):\n",
        "    cost = compute_cost(W)  # 손실 계산\n",
        "    gradient = compute_gradient(W)  # 수동으로 기울기 계산\n",
        "    W.assign_sub(learning_rate * gradient)  # 경사하강법으로 W 업데이트\n",
        "\n",
        "    # 매 1 스텝마다 출력\n",
        "    if step % 1 == 0:\n",
        "        print(f\"Step {step}, Cost: {cost.numpy()}, W: {W.numpy()[0]}\")\n",
        "\n",
        "# 예측 수행\n",
        "x_test = tf.constant([5.0, 4.0], dtype=tf.float32)  # 새로운 입력값\n",
        "y_predict = x_test * W  # 학습된 가중치를 사용하여 예측\n",
        "print(f\"Predicted values for {x_test.numpy()}: {y_predict.numpy()}\")\n"
      ],
      "metadata": {
        "colab": {
          "base_uri": "https://localhost:8080/"
        },
        "id": "0LiMzivvQ95y",
        "outputId": "e9afc35a-cd3c-45ac-d317-909581ecfbe6"
      },
      "execution_count": 44,
      "outputs": [
        {
          "output_type": "stream",
          "name": "stdout",
          "text": [
            "Step 0, Cost: 126.0, W: 1.2000000476837158\n",
            "Step 1, Cost: 0.5600002408027649, W: 1.0133333206176758\n",
            "Step 2, Cost: 0.0024888841435313225, W: 1.0008889436721802\n",
            "Step 3, Cost: 1.1063727470173035e-05, W: 1.0000592470169067\n",
            "Step 4, Cost: 4.918531715247809e-08, W: 1.0000039339065552\n",
            "Step 5, Cost: 2.1948665107629495e-10, W: 1.000000238418579\n",
            "Step 6, Cost: 7.958078640513122e-13, W: 1.0\n",
            "Step 7, Cost: 0.0, W: 1.0\n",
            "Step 8, Cost: 0.0, W: 1.0\n",
            "Step 9, Cost: 0.0, W: 1.0\n",
            "Step 10, Cost: 0.0, W: 1.0\n",
            "Step 11, Cost: 0.0, W: 1.0\n",
            "Step 12, Cost: 0.0, W: 1.0\n",
            "Step 13, Cost: 0.0, W: 1.0\n",
            "Step 14, Cost: 0.0, W: 1.0\n",
            "Step 15, Cost: 0.0, W: 1.0\n",
            "Step 16, Cost: 0.0, W: 1.0\n",
            "Step 17, Cost: 0.0, W: 1.0\n",
            "Step 18, Cost: 0.0, W: 1.0\n",
            "Step 19, Cost: 0.0, W: 1.0\n",
            "Step 20, Cost: 0.0, W: 1.0\n",
            "Step 21, Cost: 0.0, W: 1.0\n",
            "Step 22, Cost: 0.0, W: 1.0\n",
            "Step 23, Cost: 0.0, W: 1.0\n",
            "Step 24, Cost: 0.0, W: 1.0\n",
            "Step 25, Cost: 0.0, W: 1.0\n",
            "Step 26, Cost: 0.0, W: 1.0\n",
            "Step 27, Cost: 0.0, W: 1.0\n",
            "Step 28, Cost: 0.0, W: 1.0\n",
            "Step 29, Cost: 0.0, W: 1.0\n",
            "Step 30, Cost: 0.0, W: 1.0\n",
            "Step 31, Cost: 0.0, W: 1.0\n",
            "Step 32, Cost: 0.0, W: 1.0\n",
            "Step 33, Cost: 0.0, W: 1.0\n",
            "Step 34, Cost: 0.0, W: 1.0\n",
            "Step 35, Cost: 0.0, W: 1.0\n",
            "Step 36, Cost: 0.0, W: 1.0\n",
            "Step 37, Cost: 0.0, W: 1.0\n",
            "Step 38, Cost: 0.0, W: 1.0\n",
            "Step 39, Cost: 0.0, W: 1.0\n",
            "Step 40, Cost: 0.0, W: 1.0\n",
            "Step 41, Cost: 0.0, W: 1.0\n",
            "Step 42, Cost: 0.0, W: 1.0\n",
            "Step 43, Cost: 0.0, W: 1.0\n",
            "Step 44, Cost: 0.0, W: 1.0\n",
            "Step 45, Cost: 0.0, W: 1.0\n",
            "Step 46, Cost: 0.0, W: 1.0\n",
            "Step 47, Cost: 0.0, W: 1.0\n",
            "Step 48, Cost: 0.0, W: 1.0\n",
            "Step 49, Cost: 0.0, W: 1.0\n",
            "Step 50, Cost: 0.0, W: 1.0\n",
            "Step 51, Cost: 0.0, W: 1.0\n",
            "Step 52, Cost: 0.0, W: 1.0\n",
            "Step 53, Cost: 0.0, W: 1.0\n",
            "Step 54, Cost: 0.0, W: 1.0\n",
            "Step 55, Cost: 0.0, W: 1.0\n",
            "Step 56, Cost: 0.0, W: 1.0\n",
            "Step 57, Cost: 0.0, W: 1.0\n",
            "Step 58, Cost: 0.0, W: 1.0\n",
            "Step 59, Cost: 0.0, W: 1.0\n",
            "Step 60, Cost: 0.0, W: 1.0\n",
            "Step 61, Cost: 0.0, W: 1.0\n",
            "Step 62, Cost: 0.0, W: 1.0\n",
            "Step 63, Cost: 0.0, W: 1.0\n",
            "Step 64, Cost: 0.0, W: 1.0\n",
            "Step 65, Cost: 0.0, W: 1.0\n",
            "Step 66, Cost: 0.0, W: 1.0\n",
            "Step 67, Cost: 0.0, W: 1.0\n",
            "Step 68, Cost: 0.0, W: 1.0\n",
            "Step 69, Cost: 0.0, W: 1.0\n",
            "Step 70, Cost: 0.0, W: 1.0\n",
            "Step 71, Cost: 0.0, W: 1.0\n",
            "Step 72, Cost: 0.0, W: 1.0\n",
            "Step 73, Cost: 0.0, W: 1.0\n",
            "Step 74, Cost: 0.0, W: 1.0\n",
            "Step 75, Cost: 0.0, W: 1.0\n",
            "Step 76, Cost: 0.0, W: 1.0\n",
            "Step 77, Cost: 0.0, W: 1.0\n",
            "Step 78, Cost: 0.0, W: 1.0\n",
            "Step 79, Cost: 0.0, W: 1.0\n",
            "Step 80, Cost: 0.0, W: 1.0\n",
            "Step 81, Cost: 0.0, W: 1.0\n",
            "Step 82, Cost: 0.0, W: 1.0\n",
            "Step 83, Cost: 0.0, W: 1.0\n",
            "Step 84, Cost: 0.0, W: 1.0\n",
            "Step 85, Cost: 0.0, W: 1.0\n",
            "Step 86, Cost: 0.0, W: 1.0\n",
            "Step 87, Cost: 0.0, W: 1.0\n",
            "Step 88, Cost: 0.0, W: 1.0\n",
            "Step 89, Cost: 0.0, W: 1.0\n",
            "Step 90, Cost: 0.0, W: 1.0\n",
            "Step 91, Cost: 0.0, W: 1.0\n",
            "Step 92, Cost: 0.0, W: 1.0\n",
            "Step 93, Cost: 0.0, W: 1.0\n",
            "Step 94, Cost: 0.0, W: 1.0\n",
            "Step 95, Cost: 0.0, W: 1.0\n",
            "Step 96, Cost: 0.0, W: 1.0\n",
            "Step 97, Cost: 0.0, W: 1.0\n",
            "Step 98, Cost: 0.0, W: 1.0\n",
            "Step 99, Cost: 0.0, W: 1.0\n",
            "Predicted values for [5. 4.]: [5. 4.]\n"
          ]
        }
      ]
    },
    {
      "cell_type": "code",
      "source": [
        "import numpy as np\n",
        "import tensorflow as tf\n",
        "import matplotlib.pyplot as plt\n",
        "\n",
        "# 데이터를 NumPy 배열로 변환\n",
        "x_train = np.array([1, 2, 3], dtype=np.float32)\n",
        "y_train = np.array([1, 2, 3], dtype=np.float32)\n",
        "\n",
        "# 모델 생성\n",
        "tf_model = tf.keras.Sequential()\n",
        "tf_model.add(tf.keras.layers.Dense(units=1, input_dim=1))\n",
        "tf_model.layers[0].set_weights([np.array([[4.0]], dtype=np.float32), np.array([0.0], dtype=np.float32)])  # 초기 가중치 W 수동 지정\n",
        "\n",
        "\n",
        "# 옵티마이저 정의\n",
        "sgd = tf.keras.optimizers.SGD(learning_rate=0.1)\n",
        "tf_model.compile(loss='mse', optimizer=sgd)\n",
        "\n",
        "# 모델 구조 출력\n",
        "tf_model.summary()\n",
        "\n",
        "# 커스텀 콜백 정의 (W와 Cost 출력)\n",
        "class CustomCallback(tf.keras.callbacks.Callback):\n",
        "    def on_epoch_end(self, epoch, logs=None):\n",
        "        # 가중치(W) 가져오기\n",
        "        W = self.model.layers[0].weights[0].numpy()[0][0]\n",
        "        # 현재 손실 값 출력\n",
        "        cost = logs['loss']\n",
        "        print(f\"Epoch {epoch + 1}, Cost: {cost:.6f}, W: {W:.6f}\")\n",
        "\n",
        "# 모델 학습\n",
        "history = tf_model.fit(x_train, y_train, epochs=100, verbose=0, callbacks=[CustomCallback()])\n",
        "\n",
        "# 예측\n",
        "y_predict = tf_model.predict(np.array([5, 4], dtype=np.float32))\n",
        "print(f\"Predicted values: {y_predict.flatten()}\")\n",
        "\n",
        "# 손실 그래프 출력\n",
        "plt.plot(history.history['loss'])\n",
        "plt.title('Model Loss')\n",
        "plt.ylabel('Loss')\n",
        "plt.xlabel('Epoch')\n",
        "plt.legend(['Train'], loc='upper right')\n",
        "plt.show()\n"
      ],
      "metadata": {
        "colab": {
          "base_uri": "https://localhost:8080/",
          "height": 1000
        },
        "id": "OItvjaBjRlRr",
        "outputId": "b0105b4b-c9fc-40cf-81a8-7af3dabdcba3"
      },
      "execution_count": 43,
      "outputs": [
        {
          "output_type": "display_data",
          "data": {
            "text/plain": [
              "\u001b[1mModel: \"sequential_11\"\u001b[0m\n"
            ],
            "text/html": [
              "<pre style=\"white-space:pre;overflow-x:auto;line-height:normal;font-family:Menlo,'DejaVu Sans Mono',consolas,'Courier New',monospace\"><span style=\"font-weight: bold\">Model: \"sequential_11\"</span>\n",
              "</pre>\n"
            ]
          },
          "metadata": {}
        },
        {
          "output_type": "display_data",
          "data": {
            "text/plain": [
              "┏━━━━━━━━━━━━━━━━━━━━━━━━━━━━━━━━━━━━━━┳━━━━━━━━━━━━━━━━━━━━━━━━━━━━━┳━━━━━━━━━━━━━━━━━┓\n",
              "┃\u001b[1m \u001b[0m\u001b[1mLayer (type)                        \u001b[0m\u001b[1m \u001b[0m┃\u001b[1m \u001b[0m\u001b[1mOutput Shape               \u001b[0m\u001b[1m \u001b[0m┃\u001b[1m \u001b[0m\u001b[1m        Param #\u001b[0m\u001b[1m \u001b[0m┃\n",
              "┡━━━━━━━━━━━━━━━━━━━━━━━━━━━━━━━━━━━━━━╇━━━━━━━━━━━━━━━━━━━━━━━━━━━━━╇━━━━━━━━━━━━━━━━━┩\n",
              "│ dense_11 (\u001b[38;5;33mDense\u001b[0m)                     │ (\u001b[38;5;45mNone\u001b[0m, \u001b[38;5;34m1\u001b[0m)                   │               \u001b[38;5;34m2\u001b[0m │\n",
              "└──────────────────────────────────────┴─────────────────────────────┴─────────────────┘\n"
            ],
            "text/html": [
              "<pre style=\"white-space:pre;overflow-x:auto;line-height:normal;font-family:Menlo,'DejaVu Sans Mono',consolas,'Courier New',monospace\">┏━━━━━━━━━━━━━━━━━━━━━━━━━━━━━━━━━━━━━━┳━━━━━━━━━━━━━━━━━━━━━━━━━━━━━┳━━━━━━━━━━━━━━━━━┓\n",
              "┃<span style=\"font-weight: bold\"> Layer (type)                         </span>┃<span style=\"font-weight: bold\"> Output Shape                </span>┃<span style=\"font-weight: bold\">         Param # </span>┃\n",
              "┡━━━━━━━━━━━━━━━━━━━━━━━━━━━━━━━━━━━━━━╇━━━━━━━━━━━━━━━━━━━━━━━━━━━━━╇━━━━━━━━━━━━━━━━━┩\n",
              "│ dense_11 (<span style=\"color: #0087ff; text-decoration-color: #0087ff\">Dense</span>)                     │ (<span style=\"color: #00d7ff; text-decoration-color: #00d7ff\">None</span>, <span style=\"color: #00af00; text-decoration-color: #00af00\">1</span>)                   │               <span style=\"color: #00af00; text-decoration-color: #00af00\">2</span> │\n",
              "└──────────────────────────────────────┴─────────────────────────────┴─────────────────┘\n",
              "</pre>\n"
            ]
          },
          "metadata": {}
        },
        {
          "output_type": "display_data",
          "data": {
            "text/plain": [
              "\u001b[1m Total params: \u001b[0m\u001b[38;5;34m2\u001b[0m (8.00 B)\n"
            ],
            "text/html": [
              "<pre style=\"white-space:pre;overflow-x:auto;line-height:normal;font-family:Menlo,'DejaVu Sans Mono',consolas,'Courier New',monospace\"><span style=\"font-weight: bold\"> Total params: </span><span style=\"color: #00af00; text-decoration-color: #00af00\">2</span> (8.00 B)\n",
              "</pre>\n"
            ]
          },
          "metadata": {}
        },
        {
          "output_type": "display_data",
          "data": {
            "text/plain": [
              "\u001b[1m Trainable params: \u001b[0m\u001b[38;5;34m2\u001b[0m (8.00 B)\n"
            ],
            "text/html": [
              "<pre style=\"white-space:pre;overflow-x:auto;line-height:normal;font-family:Menlo,'DejaVu Sans Mono',consolas,'Courier New',monospace\"><span style=\"font-weight: bold\"> Trainable params: </span><span style=\"color: #00af00; text-decoration-color: #00af00\">2</span> (8.00 B)\n",
              "</pre>\n"
            ]
          },
          "metadata": {}
        },
        {
          "output_type": "display_data",
          "data": {
            "text/plain": [
              "\u001b[1m Non-trainable params: \u001b[0m\u001b[38;5;34m0\u001b[0m (0.00 B)\n"
            ],
            "text/html": [
              "<pre style=\"white-space:pre;overflow-x:auto;line-height:normal;font-family:Menlo,'DejaVu Sans Mono',consolas,'Courier New',monospace\"><span style=\"font-weight: bold\"> Non-trainable params: </span><span style=\"color: #00af00; text-decoration-color: #00af00\">0</span> (0.00 B)\n",
              "</pre>\n"
            ]
          },
          "metadata": {}
        },
        {
          "output_type": "stream",
          "name": "stdout",
          "text": [
            "Epoch 1, Cost: 42.000000, W: 1.200000\n",
            "Epoch 2, Cost: 0.666667, W: 1.493333\n",
            "Epoch 3, Cost: 0.165096, W: 1.448889\n",
            "Epoch 4, Cost: 0.151641, W: 1.441659\n",
            "Epoch 5, Cost: 0.144371, W: 1.430653\n",
            "Epoch 6, Cost: 0.137512, W: 1.420343\n",
            "Epoch 7, Cost: 0.130980, W: 1.410233\n",
            "Epoch 8, Cost: 0.124759, W: 1.400372\n",
            "Epoch 9, Cost: 0.118833, W: 1.390747\n",
            "Epoch 10, Cost: 0.113188, W: 1.381354\n",
            "Epoch 11, Cost: 0.107811, W: 1.372187\n",
            "Epoch 12, Cost: 0.102690, W: 1.363240\n",
            "Epoch 13, Cost: 0.097813, W: 1.354507\n",
            "Epoch 14, Cost: 0.093166, W: 1.345985\n",
            "Epoch 15, Cost: 0.088741, W: 1.337668\n",
            "Epoch 16, Cost: 0.084526, W: 1.329551\n",
            "Epoch 17, Cost: 0.080511, W: 1.321629\n",
            "Epoch 18, Cost: 0.076686, W: 1.313897\n",
            "Epoch 19, Cost: 0.073044, W: 1.306351\n",
            "Epoch 20, Cost: 0.069574, W: 1.298987\n",
            "Epoch 21, Cost: 0.066269, W: 1.291799\n",
            "Epoch 22, Cost: 0.063121, W: 1.284784\n",
            "Epoch 23, Cost: 0.060123, W: 1.277938\n",
            "Epoch 24, Cost: 0.057267, W: 1.271257\n",
            "Epoch 25, Cost: 0.054547, W: 1.264736\n",
            "Epoch 26, Cost: 0.051956, W: 1.258372\n",
            "Epoch 27, Cost: 0.049488, W: 1.252161\n",
            "Epoch 28, Cost: 0.047137, W: 1.246099\n",
            "Epoch 29, Cost: 0.044898, W: 1.240183\n",
            "Epoch 30, Cost: 0.042765, W: 1.234409\n",
            "Epoch 31, Cost: 0.040734, W: 1.228774\n",
            "Epoch 32, Cost: 0.038799, W: 1.223275\n",
            "Epoch 33, Cost: 0.036956, W: 1.217907\n",
            "Epoch 34, Cost: 0.035201, W: 1.212669\n",
            "Epoch 35, Cost: 0.033529, W: 1.207556\n",
            "Epoch 36, Cost: 0.031936, W: 1.202567\n",
            "Epoch 37, Cost: 0.030419, W: 1.197697\n",
            "Epoch 38, Cost: 0.028974, W: 1.192945\n",
            "Epoch 39, Cost: 0.027598, W: 1.188307\n",
            "Epoch 40, Cost: 0.026287, W: 1.183780\n",
            "Epoch 41, Cost: 0.025038, W: 1.179362\n",
            "Epoch 42, Cost: 0.023849, W: 1.175050\n",
            "Epoch 43, Cost: 0.022716, W: 1.170842\n",
            "Epoch 44, Cost: 0.021637, W: 1.166735\n",
            "Epoch 45, Cost: 0.020609, W: 1.162727\n",
            "Epoch 46, Cost: 0.019630, W: 1.158815\n",
            "Epoch 47, Cost: 0.018698, W: 1.154997\n",
            "Epoch 48, Cost: 0.017810, W: 1.151271\n",
            "Epoch 49, Cost: 0.016964, W: 1.147635\n",
            "Epoch 50, Cost: 0.016158, W: 1.144086\n",
            "Epoch 51, Cost: 0.015390, W: 1.140622\n",
            "Epoch 52, Cost: 0.014659, W: 1.137242\n",
            "Epoch 53, Cost: 0.013963, W: 1.133942\n",
            "Epoch 54, Cost: 0.013300, W: 1.130723\n",
            "Epoch 55, Cost: 0.012668, W: 1.127580\n",
            "Epoch 56, Cost: 0.012066, W: 1.124513\n",
            "Epoch 57, Cost: 0.011493, W: 1.121520\n",
            "Epoch 58, Cost: 0.010947, W: 1.118599\n",
            "Epoch 59, Cost: 0.010427, W: 1.115748\n",
            "Epoch 60, Cost: 0.009932, W: 1.112965\n",
            "Epoch 61, Cost: 0.009460, W: 1.110250\n",
            "Epoch 62, Cost: 0.009011, W: 1.107599\n",
            "Epoch 63, Cost: 0.008583, W: 1.105013\n",
            "Epoch 64, Cost: 0.008175, W: 1.102488\n",
            "Epoch 65, Cost: 0.007787, W: 1.100024\n",
            "Epoch 66, Cost: 0.007417, W: 1.097620\n",
            "Epoch 67, Cost: 0.007065, W: 1.095273\n",
            "Epoch 68, Cost: 0.006729, W: 1.092983\n",
            "Epoch 69, Cost: 0.006409, W: 1.090748\n",
            "Epoch 70, Cost: 0.006105, W: 1.088566\n",
            "Epoch 71, Cost: 0.005815, W: 1.086437\n",
            "Epoch 72, Cost: 0.005539, W: 1.084359\n",
            "Epoch 73, Cost: 0.005276, W: 1.082331\n",
            "Epoch 74, Cost: 0.005025, W: 1.080352\n",
            "Epoch 75, Cost: 0.004786, W: 1.078421\n",
            "Epoch 76, Cost: 0.004559, W: 1.076535\n",
            "Epoch 77, Cost: 0.004342, W: 1.074695\n",
            "Epoch 78, Cost: 0.004136, W: 1.072900\n",
            "Epoch 79, Cost: 0.003940, W: 1.071147\n",
            "Epoch 80, Cost: 0.003753, W: 1.069437\n",
            "Epoch 81, Cost: 0.003574, W: 1.067768\n",
            "Epoch 82, Cost: 0.003405, W: 1.066139\n",
            "Epoch 83, Cost: 0.003243, W: 1.064549\n",
            "Epoch 84, Cost: 0.003089, W: 1.062997\n",
            "Epoch 85, Cost: 0.002942, W: 1.061483\n",
            "Epoch 86, Cost: 0.002802, W: 1.060005\n",
            "Epoch 87, Cost: 0.002669, W: 1.058562\n",
            "Epoch 88, Cost: 0.002542, W: 1.057154\n",
            "Epoch 89, Cost: 0.002422, W: 1.055780\n",
            "Epoch 90, Cost: 0.002307, W: 1.054440\n",
            "Epoch 91, Cost: 0.002197, W: 1.053131\n",
            "Epoch 92, Cost: 0.002093, W: 1.051854\n",
            "Epoch 93, Cost: 0.001993, W: 1.050607\n",
            "Epoch 94, Cost: 0.001899, W: 1.049391\n",
            "Epoch 95, Cost: 0.001808, W: 1.048203\n",
            "Epoch 96, Cost: 0.001723, W: 1.047044\n",
            "Epoch 97, Cost: 0.001641, W: 1.045914\n",
            "Epoch 98, Cost: 0.001563, W: 1.044810\n",
            "Epoch 99, Cost: 0.001489, W: 1.043733\n",
            "Epoch 100, Cost: 0.001418, W: 1.042681\n",
            "\u001b[1m1/1\u001b[0m \u001b[32m━━━━━━━━━━━━━━━━━━━━\u001b[0m\u001b[37m\u001b[0m \u001b[1m0s\u001b[0m 35ms/step\n",
            "Predicted values: [5.116382 4.073701]\n"
          ]
        },
        {
          "output_type": "display_data",
          "data": {
            "text/plain": [
              "<Figure size 640x480 with 1 Axes>"
            ],
            "image/png": "[encoded data removed]"
          },
          "metadata": {}
        }
      ]
    }
  ]
}