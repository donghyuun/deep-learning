{
  "nbformat": 4,
  "nbformat_minor": 0,
  "metadata": {
    "colab": {
      "provenance": [],
      "authorship_tag": "ABX9TyPNuFr8Q0JDMHyhhN0SECuR",
      "include_colab_link": true
    },
    "kernelspec": {
      "name": "python3",
      "display_name": "Python 3"
    },
    "language_info": {
      "name": "python"
    }
  },
  "cells": [
    {
      "cell_type": "markdown",
      "metadata": {
        "id": "view-in-github",
        "colab_type": "text"
      },
      "source": [
        "<a href=\"https://colab.research.google.com/github/donghyuun/deep-learning/blob/main/lab_07_1_learning_rate_and_evaluation.ipynb\" target=\"_parent\"><img src=\"https://colab.research.google.com/assets/colab-badge.svg\" alt=\"Open In Colab\"/></a>"
      ]
    },
    {
      "cell_type": "code",
      "execution_count": 5,
      "metadata": {
        "colab": {
          "base_uri": "https://localhost:8080/"
        },
        "id": "arZ4bdONd3wg",
        "outputId": "889faff0-af17-46ad-c414-e751c5c70959"
      },
      "outputs": [
        {
          "output_type": "stream",
          "name": "stderr",
          "text": [
            "/usr/local/lib/python3.10/dist-packages/keras/src/layers/core/dense.py:87: UserWarning: Do not pass an `input_shape`/`input_dim` argument to a layer. When using Sequential models, prefer using an `Input(shape)` object as the first layer in the model instead.\n",
            "  super().__init__(activity_regularizer=activity_regularizer, **kwargs)\n"
          ]
        },
        {
          "output_type": "stream",
          "name": "stdout",
          "text": [
            "\u001b[1m1/1\u001b[0m \u001b[32m━━━━━━━━━━━━━━━━━━━━\u001b[0m\u001b[37m\u001b[0m \u001b[1m0s\u001b[0m 47ms/step\n",
            "Predictions (class probabilities):\n",
            "[[0.56760514 0.3297119  0.10268295]\n",
            " [0.49931288 0.46538526 0.03530192]\n",
            " [0.08217625 0.9124414  0.00538243]]\n",
            "Predicted classes:\n",
            "[0 0 1]\n",
            "Test Loss: 3.6148\n",
            "Test Accuracy: 0.0000\n"
          ]
        }
      ],
      "source": [
        "import tensorflow as tf\n",
        "import numpy as np\n",
        "\n",
        "# 데이터\n",
        "x_data = np.array([[1, 2, 1],\n",
        "                   [1, 3, 2],\n",
        "                   [1, 3, 4],\n",
        "                   [1, 5, 5],\n",
        "                   [1, 7, 5],\n",
        "                   [1, 2, 5],\n",
        "                   [1, 6, 6],\n",
        "                   [1, 7, 7]], dtype=np.float32)\n",
        "\n",
        "y_data = np.array([[0, 0, 1],\n",
        "                   [0, 0, 1],\n",
        "                   [0, 0, 1],\n",
        "                   [0, 1, 0],\n",
        "                   [0, 1, 0],\n",
        "                   [0, 1, 0],\n",
        "                   [1, 0, 0],\n",
        "                   [1, 0, 0]], dtype=np.float32)\n",
        "\n",
        "# 테스트 데이터\n",
        "x_test = np.array([[2, 1, 1],\n",
        "                   [3, 1, 2],\n",
        "                   [3, 3, 4]], dtype=np.float32)\n",
        "\n",
        "y_test = np.array([[0, 0, 1],\n",
        "                   [0, 0, 1],\n",
        "                   [0, 0, 1]], dtype=np.float32)\n",
        "\n",
        "# 학습률\n",
        "learning_rate = 1e-10\n",
        "\n",
        "# 모델 정의\n",
        "model = tf.keras.Sequential([\n",
        "    tf.keras.layers.Dense(units=3, input_dim=3, activation='softmax')\n",
        "])\n",
        "\n",
        "# 모델 컴파일\n",
        "model.compile(\n",
        "    loss='categorical_crossentropy',\n",
        "    optimizer=tf.keras.optimizers.SGD(learning_rate=learning_rate),\n",
        "    metrics=['accuracy']\n",
        ")\n",
        "\n",
        "# 모델 학습\n",
        "model.fit(x_data, y_data, epochs=1000, verbose=0)\n",
        "\n",
        "# 예측\n",
        "predictions = model.predict(x_test)\n",
        "predicted_classes = tf.argmax(predictions, axis=1)\n",
        "\n",
        "print(\"Predictions (class probabilities):\")\n",
        "print(predictions)\n",
        "print(\"Predicted classes:\")\n",
        "print(predicted_classes.numpy())\n",
        "\n",
        "# 정확도 계산\n",
        "loss, accuracy = model.evaluate(x_test, y_test, verbose=0)\n",
        "print(f\"Test Loss: {loss:.4f}\")\n",
        "print(f\"Test Accuracy: {accuracy:.4f}\")\n"
      ]
    }
  ]
}