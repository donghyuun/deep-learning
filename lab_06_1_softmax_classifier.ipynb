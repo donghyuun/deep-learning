{
  "nbformat": 4,
  "nbformat_minor": 0,
  "metadata": {
    "colab": {
      "provenance": [],
      "machine_shape": "hm",
      "gpuType": "T4",
      "authorship_tag": "ABX9TyMk0xWuyQfLOF6C53kRNAfZ",
      "include_colab_link": true
    },
    "kernelspec": {
      "name": "python3",
      "display_name": "Python 3"
    },
    "language_info": {
      "name": "python"
    },
    "accelerator": "GPU"
  },
  "cells": [
    {
      "cell_type": "markdown",
      "metadata": {
        "id": "view-in-github",
        "colab_type": "text"
      },
      "source": [
        "<a href=\"https://colab.research.google.com/github/donghyuun/deep-learning/blob/main/lab_06_1_softmax_classifier.ipynb\" target=\"_parent\"><img src=\"https://colab.research.google.com/assets/colab-badge.svg\" alt=\"Open In Colab\"/></a>"
      ]
    },
    {
      "cell_type": "code",
      "execution_count": 1,
      "metadata": {
        "colab": {
          "base_uri": "https://localhost:8080/"
        },
        "id": "2jUvJe9QyKvb",
        "outputId": "15f2bd47-227e-43fe-89fe-8ec7007832d9"
      },
      "outputs": [
        {
          "output_type": "stream",
          "name": "stdout",
          "text": [
            "Step: 0, Cost: 11.103904724121094\n",
            "Step: 200, Cost: 0.5466301441192627\n",
            "Step: 400, Cost: 0.4405672550201416\n",
            "Step: 600, Cost: 0.36289724707603455\n",
            "Step: 800, Cost: 0.28867483139038086\n",
            "Step: 1000, Cost: 0.23618562519550323\n",
            "Step: 1200, Cost: 0.21370355784893036\n",
            "Step: 1400, Cost: 0.19505411386489868\n",
            "Step: 1600, Cost: 0.17931973934173584\n",
            "Step: 1800, Cost: 0.1658668965101242\n",
            "Step: 2000, Cost: 0.15423692762851715\n",
            "Softmax outputs:\n",
            "[[3.35128722e-03 9.96639371e-01 9.42965289e-06]\n",
            " [8.87648165e-01 1.01906635e-01 1.04451803e-02]\n",
            " [1.27063542e-08 3.43102729e-04 9.99656916e-01]]\n",
            "Predicted classes:\n",
            "[1 0 2]\n"
          ]
        }
      ],
      "source": [
        "import tensorflow as tf\n",
        "import numpy as np\n",
        "\n",
        "# 1. Data\n",
        "# x_data: 입력 데이터 (8개의 샘플, 각 샘플은 4개의 특징을 가짐)\n",
        "x_data = np.array([\n",
        "    [1, 2, 1, 1],\n",
        "    [2, 1, 3, 2],\n",
        "    [3, 1, 3, 4],\n",
        "    [4, 1, 5, 5],\n",
        "    [1, 7, 5, 5],\n",
        "    [1, 2, 5, 6],\n",
        "    [1, 6, 6, 6],\n",
        "    [1, 7, 7, 7]\n",
        "], dtype=np.float32)\n",
        "\n",
        "# y_data: 출력 데이터 (원-핫 인코딩된 정답, 각 샘플은 3개의 클래스 중 하나에 속함)\n",
        "y_data = np.array([\n",
        "    [0, 0, 1],  # Class 2\n",
        "    [0, 0, 1],  # Class 2\n",
        "    [0, 0, 1],  # Class 2\n",
        "    [0, 1, 0],  # Class 1\n",
        "    [0, 1, 0],  # Class 1\n",
        "    [0, 1, 0],  # Class 1\n",
        "    [1, 0, 0],  # Class 0\n",
        "    [1, 0, 0]   # Class 0\n",
        "], dtype=np.float32)\n",
        "\n",
        "# 클래스의 개수 (3개 클래스: 0, 1, 2)\n",
        "nb_classes = 3\n",
        "\n",
        "# 2. Variables\n",
        "# W: 학습해야 할 가중치 행렬 (크기: [4, 3], 4개의 입력 특징을 3개의 출력 클래스에 매핑)\n",
        "W = tf.Variable(tf.random.normal([4, nb_classes]), name='weight')\n",
        "\n",
        "# b: 학습해야 할 절편 (크기: [3], 클래스마다 하나의 절편)\n",
        "b = tf.Variable(tf.random.normal([nb_classes]), name='bias')\n",
        "\n",
        "# 3. Hypothesis (Softmax)\n",
        "def hypothesis(X):\n",
        "    \"\"\"\n",
        "    소프트맥스 함수:\n",
        "    - 입력 데이터 X와 가중치 W, 절편 b를 사용하여 각 클래스의 확률을 계산.\n",
        "    - 소프트맥스는 모델의 출력값을 0~1 사이의 확률로 변환하고, 모든 클래스 확률의 합이 1이 되도록 함.\n",
        "    \"\"\"\n",
        "    return tf.nn.softmax(tf.matmul(X, W) + b)  # Z = XW + b -> 소프트맥스\n",
        "\n",
        "# 4. Cost Function\n",
        "def cost_fn(X, Y):\n",
        "    \"\"\"\n",
        "    손실 함수 (교차 엔트로피):\n",
        "    - 모델이 예측한 확률 분포와 실제 정답 분포 간의 차이를 측정.\n",
        "    - tf.nn.softmax_cross_entropy_with_logits는 소프트맥스와 교차 엔트로피를 결합하여 효율적으로 계산.\n",
        "    \"\"\"\n",
        "    logits = tf.matmul(X, W) + b  # 선형 변환 Z = XW + b\n",
        "    cost = tf.reduce_mean(tf.nn.softmax_cross_entropy_with_logits(labels=Y, logits=logits))\n",
        "    return cost\n",
        "\n",
        "# 5. Training\n",
        "learning_rate = 0.1  # 학습률: 가중치 업데이트 시 변화의 크기 제어\n",
        "optimizer = tf.optimizers.SGD(learning_rate)  # 경사 하강법(Stochastic Gradient Descent)\n",
        "\n",
        "# 반복 학습 (2001번)\n",
        "for step in range(2001):\n",
        "    # 자동 미분을 위해 GradientTape 사용\n",
        "    with tf.GradientTape() as tape:\n",
        "        cost = cost_fn(x_data, y_data)  # 현재 손실 값 계산\n",
        "    # 손실 함수에 대한 W와 b의 그래디언트 계산\n",
        "    gradients = tape.gradient(cost, [W, b])\n",
        "    # 가중치(W)와 절편(b) 업데이트\n",
        "    optimizer.apply_gradients(zip(gradients, [W, b]))\n",
        "\n",
        "    # 200번마다 현재 손실 값 출력\n",
        "    if step % 200 == 0:\n",
        "        print(f\"Step: {step}, Cost: {cost.numpy()}\")\n",
        "\n",
        "# 6. Testing with Multiple Inputs\n",
        "# 새로운 데이터 (테스트 데이터)\n",
        "test_data = np.array([\n",
        "    [1, 11, 7, 9],\n",
        "    [1, 3, 4, 3],\n",
        "    [1, 1, 0, 1]\n",
        "], dtype=np.float32)\n",
        "\n",
        "# 테스트 데이터에 대해 소프트맥스 확률 계산\n",
        "predictions = hypothesis(test_data)\n",
        "\n",
        "# 가장 확률이 높은 클래스를 예측 (argmax: 가장 큰 값의 인덱스 반환)\n",
        "predicted_classes = tf.argmax(predictions, axis=1)\n",
        "\n",
        "# 결과 출력\n",
        "print(\"Softmax outputs:\")  # 각 클래스에 대한 확률 출력\n",
        "print(predictions.numpy())\n",
        "\n",
        "print(\"Predicted classes:\")  # 예측된 클래스 출력\n",
        "print(predicted_classes.numpy())\n"
      ]
    }
  ]
}