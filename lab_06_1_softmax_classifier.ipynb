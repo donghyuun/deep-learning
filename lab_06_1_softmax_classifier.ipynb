{
  "nbformat": 4,
  "nbformat_minor": 0,
  "metadata": {
    "colab": {
      "provenance": [],
      "machine_shape": "hm",
      "gpuType": "T4",
      "authorship_tag": "ABX9TyMvtGFu/qxCs7P5sZSov2lW",
      "include_colab_link": true
    },
    "kernelspec": {
      "name": "python3",
      "display_name": "Python 3"
    },
    "language_info": {
      "name": "python"
    },
    "accelerator": "GPU"
  },
  "cells": [
    {
      "cell_type": "markdown",
      "metadata": {
        "id": "view-in-github",
        "colab_type": "text"
      },
      "source": [
        "<a href=\"https://colab.research.google.com/github/donghyuun/deep-learning/blob/main/lab_06_1_softmax_classifier.ipynb\" target=\"_parent\"><img src=\"https://colab.research.google.com/assets/colab-badge.svg\" alt=\"Open In Colab\"/></a>"
      ]
    },
    {
      "cell_type": "code",
      "execution_count": 3,
      "metadata": {
        "colab": {
          "base_uri": "https://localhost:8080/"
        },
        "id": "2jUvJe9QyKvb",
        "outputId": "1f6f04fb-ed20-4e3a-c474-7a276c82949e"
      },
      "outputs": [
        {
          "output_type": "stream",
          "name": "stdout",
          "text": [
            "Step: 0, Cost: 11.688674926757812\n",
            "Step: 200, Cost: 0.5400075316429138\n",
            "Step: 400, Cost: 0.4292927086353302\n",
            "Step: 600, Cost: 0.34861260652542114\n",
            "Step: 800, Cost: 0.2728123068809509\n",
            "Step: 1000, Cost: 0.2351999133825302\n",
            "Step: 1200, Cost: 0.21289938688278198\n",
            "Step: 1400, Cost: 0.19444595277309418\n",
            "Step: 1600, Cost: 0.17888705432415009\n",
            "Step: 1800, Cost: 0.16558116674423218\n",
            "Step: 2000, Cost: 0.15407070517539978\n",
            "Softmax outputs:\n",
            "[[8.6628357e-03 9.9132735e-01 9.7542170e-06]\n",
            " [8.0995786e-01 1.7170502e-01 1.8337127e-02]\n",
            " [9.7618615e-09 3.5128684e-04 9.9964869e-01]]\n",
            "Predicted classes:\n",
            "[1 0 2]\n"
          ]
        }
      ],
      "source": [
        "import tensorflow as tf\n",
        "import numpy as np\n",
        "\n",
        "# Data\n",
        "x_data = np.array([\n",
        "    [1, 2, 1, 1],\n",
        "    [2, 1, 3, 2],\n",
        "    [3, 1, 3, 4],\n",
        "    [4, 1, 5, 5],\n",
        "    [1, 7, 5, 5],\n",
        "    [1, 2, 5, 6],\n",
        "    [1, 6, 6, 6],\n",
        "    [1, 7, 7, 7]\n",
        "], dtype=np.float32)\n",
        "\n",
        "y_data = np.array([\n",
        "    [0, 0, 1],  # Class 2\n",
        "    [0, 0, 1],  # Class 2\n",
        "    [0, 0, 1],  # Class 2\n",
        "    [0, 1, 0],  # Class 1\n",
        "    [0, 1, 0],  # Class 1\n",
        "    [0, 1, 0],  # Class 1\n",
        "    [1, 0, 0],  # Class 0\n",
        "    [1, 0, 0]   # Class 0\n",
        "], dtype=np.float32)\n",
        "\n",
        "nb_classes = 3  # Number of classes\n",
        "\n",
        "# Variables\n",
        "W = tf.Variable(tf.random.normal([4, nb_classes]), name='weight')\n",
        "b = tf.Variable(tf.random.normal([nb_classes]), name='bias')\n",
        "\n",
        "# Hypothesis (softmax)\n",
        "def hypothesis(X):\n",
        "    return tf.nn.softmax(tf.matmul(X, W) + b)\n",
        "\n",
        "# Cost function\n",
        "def cost_fn(X, Y):\n",
        "    logits = tf.matmul(X, W) + b\n",
        "    cost = tf.reduce_mean(tf.nn.softmax_cross_entropy_with_logits(labels=Y, logits=logits))\n",
        "    return cost\n",
        "\n",
        "# Training\n",
        "learning_rate = 0.1\n",
        "optimizer = tf.optimizers.SGD(learning_rate)\n",
        "\n",
        "for step in range(2001):\n",
        "    with tf.GradientTape() as tape:\n",
        "        cost = cost_fn(x_data, y_data)\n",
        "    gradients = tape.gradient(cost, [W, b])\n",
        "    optimizer.apply_gradients(zip(gradients, [W, b]))\n",
        "\n",
        "    if step % 200 == 0:\n",
        "        print(f\"Step: {step}, Cost: {cost.numpy()}\")\n",
        "\n",
        "# Testing with multiple inputs\n",
        "test_data = np.array([\n",
        "    [1, 11, 7, 9],\n",
        "    [1, 3, 4, 3],\n",
        "    [1, 1, 0, 1]\n",
        "], dtype=np.float32)\n",
        "\n",
        "predictions = hypothesis(test_data)\n",
        "predicted_classes = tf.argmax(predictions, axis=1)\n",
        "\n",
        "print(\"Softmax outputs:\")\n",
        "print(predictions.numpy())\n",
        "print(\"Predicted classes:\")\n",
        "print(predicted_classes.numpy())\n"
      ]
    }
  ]
}