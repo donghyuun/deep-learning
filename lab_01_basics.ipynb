{
  "nbformat": 4,
  "nbformat_minor": 0,
  "metadata": {
    "colab": {
      "provenance": [],
      "authorship_tag": "ABX9TyP60fo1QekpqsSVB7jrhrwU",
      "include_colab_link": true
    },
    "kernelspec": {
      "name": "python3",
      "display_name": "Python 3"
    },
    "language_info": {
      "name": "python"
    }
  },
  "cells": [
    {
      "cell_type": "markdown",
      "metadata": {
        "id": "view-in-github",
        "colab_type": "text"
      },
      "source": [
        "<a href=\"https://colab.research.google.com/github/donghyuun/deep-learning/blob/main/lab_01_basics.ipynb\" target=\"_parent\"><img src=\"https://colab.research.google.com/assets/colab-badge.svg\" alt=\"Open In Colab\"/></a>"
      ]
    },
    {
      "cell_type": "code",
      "execution_count": 2,
      "metadata": {
        "colab": {
          "base_uri": "https://localhost:8080/",
          "height": 36
        },
        "id": "Mon46ex4q4KC",
        "outputId": "c5c83659-da9b-4b57-e801-f537a0d41df9"
      },
      "outputs": [
        {
          "output_type": "execute_result",
          "data": {
            "text/plain": [
              "'2.17.0'"
            ],
            "application/vnd.google.colaboratory.intrinsic+json": {
              "type": "string"
            }
          },
          "metadata": {},
          "execution_count": 2
        }
      ],
      "source": [
        "import tensorflow as tf\n",
        "tf.__version__"
      ]
    },
    {
      "cell_type": "code",
      "source": [
        "# 텐서(다차원 데이터 배열)를 생성하는 연산, 하나의 노드로 간주된다.\n",
        "hello = tf.constant(\"hello, tensorflow!\")\n",
        "\n",
        "\n",
        "# 텐서를 바로 출력\n",
        "print(hello.numpy())"
      ],
      "metadata": {
        "colab": {
          "base_uri": "https://localhost:8080/"
        },
        "id": "APVnBRkZriCV",
        "outputId": "b960982a-140a-475d-ffb4-10907adbd656"
      },
      "execution_count": 6,
      "outputs": [
        {
          "output_type": "stream",
          "name": "stdout",
          "text": [
            "b'hello, tensorflow!'\n"
          ]
        }
      ]
    },
    {
      "cell_type": "markdown",
      "source": [
        "# **Computational Graph**"
      ],
      "metadata": {
        "id": "i26fxrirtc5m"
      }
    },
    {
      "cell_type": "markdown",
      "source": [
        "Build graph using TensorFlow opertaions"
      ],
      "metadata": {
        "id": "6stUQbrpwnwy"
      }
    },
    {
      "cell_type": "code",
      "source": [
        "node1 = tf.constant(3.0, tf.float32)\n",
        "node2 = tf.constant(4.0) # also tf.float32 implicitly\n",
        "node3 = tf.add(node1, node2)\n",
        "\n",
        "# node1,2,3 은 연산을 수행하는 \"노드\"임"
      ],
      "metadata": {
        "id": "hHCahaemtr6u"
      },
      "execution_count": 8,
      "outputs": []
    },
    {
      "cell_type": "markdown",
      "source": [
        "run graph (operation)"
      ],
      "metadata": {
        "id": "VJeOHqSQwy4n"
      }
    },
    {
      "cell_type": "code",
      "source": [
        "print(\"node1:\", node1, \"node2:\", node2)\n",
        "print(\"node3:\", node3)\n",
        "\n",
        "# 노드를 출력하면 그 노드에서 생성하는 텐서 객체를 출력함\n",
        "# ex) tf.Tensor(3.0, shape=(), dtype=float32) 에서\n",
        "# tf.Tensor -> TensorFlow 의 \"텐서 객체\"를 의미함\n",
        "# 3.0 -> 텐서의 \"값\", 또는 \"요소\"\n",
        "# shape=() -> 텐서에 담긴 \"데이터의 모양\", 여기서 () 는 스칼라 형태(단일 값)을 나타냄\n",
        "# dtype=float3 -> 텐서의 \"데이터 타입\""
      ],
      "metadata": {
        "colab": {
          "base_uri": "https://localhost:8080/"
        },
        "id": "7qorRJ89t3fR",
        "outputId": "e5dd308d-322e-49da-9577-3e44b90ac3fd"
      },
      "execution_count": 10,
      "outputs": [
        {
          "output_type": "stream",
          "name": "stdout",
          "text": [
            "node1: tf.Tensor(3.0, shape=(), dtype=float32) node2: tf.Tensor(4.0, shape=(), dtype=float32)\n",
            "node3: tf.Tensor(7.0, shape=(), dtype=float32)\n"
          ]
        }
      ]
    },
    {
      "cell_type": "code",
      "source": [
        "print(node1.numpy(), node2.numpy())\n",
        "print(node3.numpy())\n",
        "\n",
        "# .numpy() -> TensorFlow 텐서의 값을 NumPy 배열로 변환\n",
        "# print(node3.numpy()) -> 노드의 연산을 통해 생성된 텐서의 값을 NumPy 배열로 출력"
      ],
      "metadata": {
        "colab": {
          "base_uri": "https://localhost:8080/"
        },
        "id": "XinOx9bIvwp4",
        "outputId": "ad54440d-34dc-49fc-cbec-5dea4e6a4d99"
      },
      "execution_count": 12,
      "outputs": [
        {
          "output_type": "stream",
          "name": "stdout",
          "text": [
            "3.0 4.0\n",
            "7.0\n"
          ]
        }
      ]
    },
    {
      "cell_type": "markdown",
      "source": [
        "tf.function은 함수를 한 번 컴파일하여 **연산 노드로 구성된 그래프를 생성**함\n",
        "\n",
        "그래프 내부에서는 각 연산이 노드로 표현되고, 데이터는 엣지를 통해 노드 간에 흐름\n",
        "\n",
        "그래프 모드에서는 TensorFlow가 연산 최적화와 병렬 처리, 메모리 관리 등을 통해 성능을 최적화함\n",
        "\n",
        "동일한 연산을 반복할 때 계산이 빠르게 수행되며, 대규모 연산이나 복잡한 모델에서 성능 향상이 크게 나타남\n",
        "\n",
        "따라서 tf.function을 사용하면 노드와 엣지 기반의 최적화된 그래프가 생성되어, 단순 파이썬 함수 호출보다 성능이 더 좋아짐"
      ],
      "metadata": {
        "id": "bsI8ZqeHymJy"
      }
    },
    {
      "cell_type": "code",
      "source": [
        "# 함수 매개변수 사용\n",
        "\n",
        "def add(a, b):\n",
        "    return a + b\n",
        "\n",
        "print(add(3, 4))       # 출력: 7\n",
        "print(add(5, 10))      # 출력: 15"
      ],
      "metadata": {
        "id": "J8-wbf7zy8Pp"
      },
      "execution_count": null,
      "outputs": []
    },
    {
      "cell_type": "code",
      "source": [
        "# tf.function 사용\n",
        "\n",
        "@tf.function # 함수에 대해 그래프 모드로 실행되도록 변환\n",
        "def add(a, b):\n",
        "    return a + b\n",
        "\n",
        "print(add(3, 4))       # 노드의 연산으로 생성되는 텐서 객체 출력\n",
        "print(add(5, 10))      # \"\""
      ],
      "metadata": {
        "colab": {
          "base_uri": "https://localhost:8080/"
        },
        "id": "kFKvatavw_j3",
        "outputId": "5abdaf54-867d-42d7-c2bb-09906275b202"
      },
      "execution_count": 15,
      "outputs": [
        {
          "output_type": "stream",
          "name": "stdout",
          "text": [
            "tf.Tensor(7, shape=(), dtype=int32)\n",
            "tf.Tensor(15, shape=(), dtype=int32)\n"
          ]
        }
      ]
    }
  ]
}