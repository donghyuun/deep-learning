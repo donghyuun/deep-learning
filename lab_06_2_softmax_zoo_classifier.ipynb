{
  "nbformat": 4,
  "nbformat_minor": 0,
  "metadata": {
    "colab": {
      "provenance": [],
      "machine_shape": "hm",
      "gpuType": "T4",
      "authorship_tag": "ABX9TyPewIbw7+9mDYVabm/liagg",
      "include_colab_link": true
    },
    "kernelspec": {
      "name": "python3",
      "display_name": "Python 3"
    },
    "language_info": {
      "name": "python"
    },
    "accelerator": "GPU"
  },
  "cells": [
    {
      "cell_type": "markdown",
      "metadata": {
        "id": "view-in-github",
        "colab_type": "text"
      },
      "source": [
        "<a href=\"https://colab.research.google.com/github/donghyuun/deep-learning/blob/main/lab_06_2_softmax_zoo_classifier.ipynb\" target=\"_parent\"><img src=\"https://colab.research.google.com/assets/colab-badge.svg\" alt=\"Open In Colab\"/></a>"
      ]
    },
    {
      "cell_type": "code",
      "execution_count": 4,
      "metadata": {
        "id": "lVipvWpOTUUC",
        "colab": {
          "base_uri": "https://localhost:8080/"
        },
        "outputId": "a5c6f599-ebe3-402e-c36f-89b596ec5e91"
      },
      "outputs": [
        {
          "output_type": "stream",
          "name": "stdout",
          "text": [
            "Step: 0, Cost: 6.072, Accuracy: 5.88%\n",
            "Step: 100, Cost: 0.320, Accuracy: 88.24%\n",
            "Step: 200, Cost: 0.140, Accuracy: 94.12%\n",
            "Step: 300, Cost: 0.091, Accuracy: 94.12%\n",
            "Step: 400, Cost: 0.068, Accuracy: 94.12%\n",
            "Step: 500, Cost: 0.055, Accuracy: 94.12%\n",
            "Step: 600, Cost: 0.046, Accuracy: 94.12%\n",
            "Step: 700, Cost: 0.039, Accuracy: 94.12%\n",
            "Step: 800, Cost: 0.035, Accuracy: 94.12%\n",
            "Step: 900, Cost: 0.031, Accuracy: 94.12%\n",
            "Step: 1000, Cost: 0.028, Accuracy: 94.12%\n",
            "Step: 1100, Cost: 0.025, Accuracy: 94.12%\n",
            "Step: 1200, Cost: 0.023, Accuracy: 94.12%\n",
            "Step: 1300, Cost: 0.022, Accuracy: 94.12%\n",
            "Step: 1400, Cost: 0.020, Accuracy: 94.12%\n",
            "Step: 1500, Cost: 0.019, Accuracy: 94.12%\n",
            "Step: 1600, Cost: 0.018, Accuracy: 94.12%\n",
            "Step: 1700, Cost: 0.017, Accuracy: 94.12%\n",
            "Step: 1800, Cost: 0.016, Accuracy: 94.12%\n",
            "Step: 1900, Cost: 0.015, Accuracy: 94.12%\n",
            "Step: 2000, Cost: 0.014, Accuracy: 94.12%\n",
            "Prediction: 1, True: 1\n",
            "Prediction: 1, True: 1\n",
            "Prediction: 1, True: 1\n",
            "Prediction: 1, True: 1\n",
            "Prediction: 2, True: 2\n",
            "Prediction: 2, True: 2\n",
            "Prediction: 2, True: 2\n",
            "Prediction: 3, True: 3\n",
            "Prediction: 3, True: 3\n",
            "Prediction: 3, True: 3\n",
            "Prediction: 4, True: 4\n",
            "Prediction: 4, True: 4\n",
            "Prediction: 5, True: 5\n",
            "Prediction: 5, True: 5\n",
            "Prediction: 6, True: 6\n",
            "Prediction: 6, True: 6\n",
            "Prediction: 4, True: 7\n"
          ]
        }
      ],
      "source": [
        "import tensorflow as tf\n",
        "import numpy as np\n",
        "\n",
        "# 1. 데이터 로드\n",
        "# CSV 파일 로드\n",
        "xy = np.loadtxt('data-04-zoo.csv', delimiter=',', dtype=np.float32)\n",
        "\n",
        "# x_data: 입력 데이터, y_data: 레이블\n",
        "x_data = xy[:, 0:-1]  # 마지막 열 제외 (16개 특징)\n",
        "y_data = xy[:, -1].astype(int)  # 마지막 열 (0~6, 총 7개의 클래스)\n",
        "\n",
        "# 클래스 개수 정의\n",
        "nb_classes = 7\n",
        "\n",
        "# y_data를 원-핫 인코딩으로 변환\n",
        "y_one_hot = tf.one_hot(y_data, depth=nb_classes)\n",
        "\n",
        "# 2. 모델 정의\n",
        "# 가중치와 절편 초기화\n",
        "W = tf.Variable(tf.random.normal([16, nb_classes]), name='weight')\n",
        "b = tf.Variable(tf.random.normal([nb_classes]), name='bias')\n",
        "\n",
        "# 소프트맥스 함수로 확률 계산\n",
        "def hypothesis(X):\n",
        "    logits = tf.matmul(X, W) + b  # Z = XW + b\n",
        "    return tf.nn.softmax(logits)\n",
        "\n",
        "# 3. 손실 함수 정의\n",
        "def cost_fn(X, Y):\n",
        "    logits = tf.matmul(X, W) + b  # 선형 변환 Z\n",
        "    cost = tf.reduce_mean(tf.nn.softmax_cross_entropy_with_logits(labels=Y, logits=logits))\n",
        "    return cost\n",
        "\n",
        "# 정확도 계산\n",
        "def compute_accuracy(X, Y):\n",
        "    logits = tf.matmul(X, W) + b\n",
        "    prediction = tf.argmax(logits, axis=1)  # 예측 클래스\n",
        "    correct_prediction = tf.equal(prediction, tf.argmax(Y, axis=1))  # 정답 여부\n",
        "    accuracy = tf.reduce_mean(tf.cast(correct_prediction, tf.float32))\n",
        "    return accuracy\n",
        "\n",
        "# 4. 학습\n",
        "learning_rate = 0.1\n",
        "optimizer = tf.optimizers.SGD(learning_rate)\n",
        "\n",
        "# 학습 함수\n",
        "def train(X, Y):\n",
        "    with tf.GradientTape() as tape:\n",
        "        cost = cost_fn(X, Y)  # 손실 계산\n",
        "    gradients = tape.gradient(cost, [W, b])  # 그래디언트 계산\n",
        "    optimizer.apply_gradients(zip(gradients, [W, b]))  # 가중치와 절편 업데이트\n",
        "    return cost\n",
        "\n",
        "# 5. 학습 반복\n",
        "for step in range(2001):\n",
        "    cost = train(x_data, y_one_hot)  # 학습 수행\n",
        "    if step % 100 == 0:\n",
        "        acc = compute_accuracy(x_data, y_one_hot)  # 정확도 계산\n",
        "        print(f\"Step: {step}, Cost: {cost.numpy():.3f}, Accuracy: {acc.numpy():.2%}\")\n",
        "\n",
        "# 6. 예측\n",
        "# 테스트 데이터\n",
        "test_data = x_data  # 학습 데이터로 예측 (실제에서는 새로운 데이터를 사용)\n",
        "\n",
        "# 예측 수행\n",
        "logits = tf.matmul(test_data, W) + b\n",
        "predictions = tf.argmax(logits, axis=1)\n",
        "true_classes = y_data\n",
        "\n",
        "# 결과 출력\n",
        "for pred, true in zip(predictions.numpy(), true_classes):\n",
        "    print(f\"Prediction: {int(pred)}, True: {int(true)}\")\n"
      ]
    }
  ]
}