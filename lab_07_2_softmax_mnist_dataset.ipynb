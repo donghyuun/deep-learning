{
  "nbformat": 4,
  "nbformat_minor": 0,
  "metadata": {
    "colab": {
      "provenance": [],
      "authorship_tag": "ABX9TyN9IxghpHkhETDE03anqkGv",
      "include_colab_link": true
    },
    "kernelspec": {
      "name": "python3",
      "display_name": "Python 3"
    },
    "language_info": {
      "name": "python"
    }
  },
  "cells": [
    {
      "cell_type": "markdown",
      "metadata": {
        "id": "view-in-github",
        "colab_type": "text"
      },
      "source": [
        "<a href=\"https://colab.research.google.com/github/donghyuun/deep-learning/blob/main/lab_07_2_softmax_mnist_dataset.ipynb\" target=\"_parent\"><img src=\"https://colab.research.google.com/assets/colab-badge.svg\" alt=\"Open In Colab\"/></a>"
      ]
    },
    {
      "cell_type": "code",
      "execution_count": 39,
      "metadata": {
        "colab": {
          "base_uri": "https://localhost:8080/",
          "height": 1000
        },
        "id": "KvdcGXHCoX7Q",
        "outputId": "2cadd89b-7e93-49bc-f88d-21bdacf3a951"
      },
      "outputs": [
        {
          "output_type": "stream",
          "name": "stdout",
          "text": [
            "Training data shape (x_train): (60000, 28, 28)\n",
            "Training labels shape (y_train): (60000,)\n",
            "Test data shape (x_test): (10000, 28, 28)\n",
            "Test labels shape (y_test): (10000,)\n"
          ]
        },
        {
          "output_type": "display_data",
          "data": {
            "text/plain": [
              "<Figure size 1500x500 with 5 Axes>"
            ],
            "image/png": "[encoded data removed]"
          },
          "metadata": {}
        },
        {
          "output_type": "stream",
          "name": "stdout",
          "text": [
            "Epoch 1/15\n",
            "\u001b[1m600/600\u001b[0m \u001b[32m━━━━━━━━━━━━━━━━━━━━\u001b[0m\u001b[37m\u001b[0m \u001b[1m1s\u001b[0m 2ms/step - accuracy: 0.5835 - loss: 1.5439\n",
            "Epoch 2/15\n",
            "\u001b[1m600/600\u001b[0m \u001b[32m━━━━━━━━━━━━━━━━━━━━\u001b[0m\u001b[37m\u001b[0m \u001b[1m1s\u001b[0m 2ms/step - accuracy: 0.8446 - loss: 0.6909\n",
            "Epoch 3/15\n",
            "\u001b[1m600/600\u001b[0m \u001b[32m━━━━━━━━━━━━━━━━━━━━\u001b[0m\u001b[37m\u001b[0m \u001b[1m1s\u001b[0m 2ms/step - accuracy: 0.8656 - loss: 0.5561\n",
            "Epoch 4/15\n",
            "\u001b[1m600/600\u001b[0m \u001b[32m━━━━━━━━━━━━━━━━━━━━\u001b[0m\u001b[37m\u001b[0m \u001b[1m1s\u001b[0m 2ms/step - accuracy: 0.8750 - loss: 0.4922\n",
            "Epoch 5/15\n",
            "\u001b[1m600/600\u001b[0m \u001b[32m━━━━━━━━━━━━━━━━━━━━\u001b[0m\u001b[37m\u001b[0m \u001b[1m1s\u001b[0m 2ms/step - accuracy: 0.8805 - loss: 0.4629\n",
            "Epoch 6/15\n",
            "\u001b[1m600/600\u001b[0m \u001b[32m━━━━━━━━━━━━━━━━━━━━\u001b[0m\u001b[37m\u001b[0m \u001b[1m1s\u001b[0m 2ms/step - accuracy: 0.8843 - loss: 0.4421\n",
            "Epoch 7/15\n",
            "\u001b[1m600/600\u001b[0m \u001b[32m━━━━━━━━━━━━━━━━━━━━\u001b[0m\u001b[37m\u001b[0m \u001b[1m1s\u001b[0m 2ms/step - accuracy: 0.8870 - loss: 0.4249\n",
            "Epoch 8/15\n",
            "\u001b[1m600/600\u001b[0m \u001b[32m━━━━━━━━━━━━━━━━━━━━\u001b[0m\u001b[37m\u001b[0m \u001b[1m1s\u001b[0m 2ms/step - accuracy: 0.8883 - loss: 0.4126\n",
            "Epoch 9/15\n",
            "\u001b[1m600/600\u001b[0m \u001b[32m━━━━━━━━━━━━━━━━━━━━\u001b[0m\u001b[37m\u001b[0m \u001b[1m2s\u001b[0m 3ms/step - accuracy: 0.8945 - loss: 0.3908\n",
            "Epoch 10/15\n",
            "\u001b[1m600/600\u001b[0m \u001b[32m━━━━━━━━━━━━━━━━━━━━\u001b[0m\u001b[37m\u001b[0m \u001b[1m2s\u001b[0m 2ms/step - accuracy: 0.8942 - loss: 0.3898\n",
            "Epoch 11/15\n",
            "\u001b[1m600/600\u001b[0m \u001b[32m━━━━━━━━━━━━━━━━━━━━\u001b[0m\u001b[37m\u001b[0m \u001b[1m1s\u001b[0m 2ms/step - accuracy: 0.8972 - loss: 0.3788\n",
            "Epoch 12/15\n",
            "\u001b[1m600/600\u001b[0m \u001b[32m━━━━━━━━━━━━━━━━━━━━\u001b[0m\u001b[37m\u001b[0m \u001b[1m1s\u001b[0m 2ms/step - accuracy: 0.8981 - loss: 0.3723\n",
            "Epoch 13/15\n",
            "\u001b[1m600/600\u001b[0m \u001b[32m━━━━━━━━━━━━━━━━━━━━\u001b[0m\u001b[37m\u001b[0m \u001b[1m1s\u001b[0m 2ms/step - accuracy: 0.9034 - loss: 0.3554\n",
            "Epoch 14/15\n",
            "\u001b[1m600/600\u001b[0m \u001b[32m━━━━━━━━━━━━━━━━━━━━\u001b[0m\u001b[37m\u001b[0m \u001b[1m1s\u001b[0m 2ms/step - accuracy: 0.8997 - loss: 0.3613\n",
            "Epoch 15/15\n",
            "\u001b[1m600/600\u001b[0m \u001b[32m━━━━━━━━━━━━━━━━━━━━\u001b[0m\u001b[37m\u001b[0m \u001b[1m1s\u001b[0m 2ms/step - accuracy: 0.9014 - loss: 0.3582\n",
            "313/313 - 0s - 1ms/step - accuracy: 0.9089 - loss: 0.3371\n",
            "Test Loss: 0.3371\n",
            "Test Accuracy: 0.9089\n",
            "\n",
            "Layer: dense_6\n",
            "Weights (W): (784, 10)\n",
            "[[-0.06441544  0.04455668  0.06713767 ... -0.03506714 -0.0653743\n",
            "   0.08263025]\n",
            " [-0.00559154  0.06209394 -0.01534603 ... -0.00912356  0.00160538\n",
            "  -0.01025297]\n",
            " [ 0.00732212 -0.030266   -0.04743176 ...  0.05828322  0.02253248\n",
            "   0.01654837]\n",
            " ...\n",
            " [ 0.05840255 -0.00472109 -0.05258728 ...  0.03592502 -0.06945329\n",
            "   0.00759236]\n",
            " [-0.00172642 -0.0460091   0.08530886 ... -0.04631466 -0.01804845\n",
            "   0.06039155]\n",
            " [ 0.0444395  -0.06291766  0.08513861 ...  0.02138992 -0.0258658\n",
            "   0.06260689]]\n",
            "Biases (b): (10,)\n",
            "[-0.1339546   0.25387752 -0.02861187 -0.11480448  0.07024981  0.37114134\n",
            " -0.0335435   0.22221151 -0.539316   -0.0672496 ]\n"
          ]
        }
      ],
      "source": [
        "import tensorflow as tf\n",
        "import matplotlib.pyplot as plt\n",
        "\n",
        "# MNIST 데이터셋 로드\n",
        "mnist = tf.keras.datasets.mnist\n",
        "(x_train, y_train), (x_test, y_test) = mnist.load_data()\n",
        "\n",
        "# 데이터셋 형태 출력\n",
        "print(\"Training data shape (x_train):\", x_train.shape)  # (60000, 28, 28)\n",
        "print(\"Training labels shape (y_train):\", y_train.shape)  # (60000,)\n",
        "print(\"Test data shape (x_test):\", x_test.shape)  # (10000, 28, 28)\n",
        "print(\"Test labels shape (y_test):\", y_test.shape)  # (10000,)\n",
        "\n",
        "# 훈련 데이터셋에서 첫 5개의 이미지와 레이블 시각화\n",
        "fig, axes = plt.subplots(1, 5, figsize=(15, 5))\n",
        "for i in range(5):\n",
        "    axes[i].imshow(x_train[i], cmap='gray')\n",
        "    axes[i].set_title(f\"Label: {y_train[i]}\")\n",
        "    axes[i].axis('off')\n",
        "plt.show()\n",
        "\n",
        "# 데이터 정규화: 픽셀 값을 0~1 범위로 변환\n",
        "x_train, x_test = x_train / 255.0, x_test / 255.0\n",
        "\n",
        "# 모델 정의\n",
        "model = tf.keras.models.Sequential([\n",
        "    tf.keras.layers.Flatten(input_shape=(28, 28)),  # Flatten layer\n",
        "    tf.keras.layers.Dense(10, activation='softmax')  # Dense layer with Softmax activation\n",
        "])\n",
        "\n",
        "# 모델 컴파일\n",
        "model.compile(\n",
        "    optimizer='SGD',  # Stochastic Gradient Descent\n",
        "    loss='sparse_categorical_crossentropy',  # Loss function for multi-class classification\n",
        "    metrics=['accuracy']  # Metric to evaluate performance\n",
        ")\n",
        "\n",
        "# 모델 학습: epochs=15, batch_size=100\n",
        "model.fit(x_train, y_train, epochs=15, batch_size=100)\n",
        "\n",
        "# 모델 평가\n",
        "loss, accuracy = model.evaluate(x_test, y_test, verbose=2)\n",
        "print(f\"Test Loss: {loss:.4f}\")\n",
        "print(f\"Test Accuracy: {accuracy:.4f}\")\n",
        "\n",
        "# 가중치와 절편 출력\n",
        "for layer in model.layers:\n",
        "    if len(layer.get_weights()) > 0:  # 가중치와 절편이 있는 레이어만 처리\n",
        "        weights, biases = layer.get_weights()  # 가중치(W)와 절편(b) 가져오기\n",
        "        print(\"\\nLayer:\", layer.name)\n",
        "        print(\"Weights (W):\", weights.shape)\n",
        "        print(weights)  # 가중치 값 출력\n",
        "        print(\"Biases (b):\", biases.shape)\n",
        "        print(biases)  # 절편 값 출력\n"
      ]
    },
    {
      "cell_type": "code",
      "source": [
        "from PIL import Image\n",
        "import numpy as np\n",
        "import tensorflow as tf\n",
        "\n",
        "# 1. 이미지 로드 및 변환\n",
        "# 이미지 파일을 불러와 그레이스케일로 변환\n",
        "img = Image.open(\"test.png\").convert(\"L\")\n",
        "\n",
        "# 2. 크기 조정 (28x28)\n",
        "# MNIST 데이터셋과 동일한 크기로 변환\n",
        "img_resized = img.resize((28, 28), Image.Resampling.LANCZOS)  # 최신 Pillow 버전에 맞게 수정\n",
        "\n",
        "# 3. 정규화 및 반전 (0~1 범위로 변환 및 색 반전)\n",
        "# MNIST 데이터는 흰색 배경에 검은색 숫자이므로 반전\n",
        "test_data = np.array(img_resized) / 255.0\n",
        "test_data = 1 - test_data  # 색 반전 (필요 시)\n",
        "\n",
        "# 4. 모델 입력 형태로 변환 (배치 차원 추가)\n",
        "test_data = test_data.reshape(1, 28, 28)\n",
        "\n",
        "# 5. 모델 예측\n",
        "# 학습된 모델에 입력 데이터를 전달하여 예측 수행\n",
        "res = model.predict(test_data)\n",
        "\n",
        "# 6. 결과 출력\n",
        "# 가장 높은 확률을 가진 클래스를 출력\n",
        "predicted_class = tf.argmax(res, axis=1).numpy()[0]\n",
        "print(\"Predicted Class:\", predicted_class)\n"
      ],
      "metadata": {
        "colab": {
          "base_uri": "https://localhost:8080/"
        },
        "id": "t4C51BDdtbiJ",
        "outputId": "7f92d8f0-22f9-4fe8-bf65-b6e7e1b6dfc6"
      },
      "execution_count": 42,
      "outputs": [
        {
          "output_type": "stream",
          "name": "stdout",
          "text": [
            "\u001b[1m1/1\u001b[0m \u001b[32m━━━━━━━━━━━━━━━━━━━━\u001b[0m\u001b[37m\u001b[0m \u001b[1m0s\u001b[0m 20ms/step\n",
            "Predicted Class: 6\n"
          ]
        }
      ]
    },
    {
      "cell_type": "code",
      "source": [],
      "metadata": {
        "id": "QhxlXhnIuOQO"
      },
      "execution_count": null,
      "outputs": []
    }
  ]
}